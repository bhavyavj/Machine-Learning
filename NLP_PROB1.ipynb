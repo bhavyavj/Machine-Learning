{
 "cells": [
  {
   "cell_type": "code",
   "execution_count": 1,
   "metadata": {},
   "outputs": [
    {
     "name": "stdout",
     "output_type": "stream",
     "text": [
      "Requirement already satisfied: pytesseract in c:\\programdata\\anaconda3\\lib\\site-packages (0.2.7)\n",
      "Requirement already satisfied: Pillow in c:\\programdata\\anaconda3\\lib\\site-packages (from pytesseract) (5.4.1)\n"
     ]
    }
   ],
   "source": [
    "!pip install pytesseract"
   ]
  },
  {
   "cell_type": "code",
   "execution_count": 14,
   "metadata": {},
   "outputs": [],
   "source": [
    "import pytesseract\n",
    "import cv2"
   ]
  },
  {
   "cell_type": "code",
   "execution_count": 3,
   "metadata": {},
   "outputs": [],
   "source": [
    "#from PIL import Image"
   ]
  },
  {
   "cell_type": "code",
   "execution_count": 31,
   "metadata": {},
   "outputs": [
    {
     "data": {
      "text/plain": [
       "\"img=cv2.imread('n.jpg',1)\\nimg1=cv2.imread('lk.jpg',1)\""
      ]
     },
     "execution_count": 31,
     "metadata": {},
     "output_type": "execute_result"
    }
   ],
   "source": [
    "img=Image.open('n.jpg')\n",
    "img1=Image.open('lk.jpg')\n",
    "'''img=cv2.imread('n.jpg',1)\n",
    "img1=cv2.imread('lk.jpg',1)'''"
   ]
  },
  {
   "cell_type": "code",
   "execution_count": 32,
   "metadata": {},
   "outputs": [],
   "source": [
    "pytesseract.pytesseract.tesseract_cmd='C:/Program Files (x86)/Tesseract-OCR/tesseract'\n",
    "result=pytesseract.image_to_string(img)\n",
    "result1=pytesseract.image_to_string(img1)"
   ]
  },
  {
   "cell_type": "code",
   "execution_count": 33,
   "metadata": {},
   "outputs": [],
   "source": [
    "with open('np.txt','w') as f:\n",
    "    f.write(result)\n",
    "    #print('see my file')"
   ]
  },
  {
   "cell_type": "code",
   "execution_count": 34,
   "metadata": {},
   "outputs": [],
   "source": [
    "with open('np1.txt','w') as f:\n",
    "    f.write(result1)\n",
    "    #print('see my file')"
   ]
  },
  {
   "cell_type": "code",
   "execution_count": 35,
   "metadata": {},
   "outputs": [],
   "source": [
    "f=open('np.txt','r')\n",
    "mydata=f.read()\n",
    "f.close()\n",
    "\n",
    "f=open('np1.txt','r')\n",
    "data=f.read()\n",
    "f.close()"
   ]
  },
  {
   "cell_type": "code",
   "execution_count": 36,
   "metadata": {},
   "outputs": [
    {
     "data": {
      "text/plain": [
       "['Layout',\n",
       " 'of',\n",
       " 'the',\n",
       " 'stories',\n",
       " 'firs',\n",
       " 'on',\n",
       " 'the',\n",
       " 'fmnt',\n",
       " 'and',\n",
       " 'first',\n",
       " 'page',\n",
       " 'nf',\n",
       " 'a',\n",
       " 'newspaper',\n",
       " 'there',\n",
       " 'alwalystendsm',\n",
       " 'he',\n",
       " 'an',\n",
       " 'lnfnrmativa',\n",
       " 'statistic',\n",
       " 'in',\n",
       " 'a',\n",
       " 'bright',\n",
       " 'large',\n",
       " 'font',\n",
       " 'to',\n",
       " 'make',\n",
       " 'it',\n",
       " 'noticeable',\n",
       " 'to',\n",
       " 'the',\n",
       " 'reader',\n",
       " 'which',\n",
       " 'enmurages',\n",
       " 'them',\n",
       " 'to',\n",
       " 'reao',\n",
       " 'what',\n",
       " 'the',\n",
       " 'statistic',\n",
       " 'is',\n",
       " 'about.',\n",
       " 'lt',\n",
       " 'tenos',\n",
       " 'to',\n",
       " 'he',\n",
       " 'a',\n",
       " 'relatahle',\n",
       " 'statist’',\n",
       " 'that',\n",
       " 'most',\n",
       " 'people',\n",
       " 'can',\n",
       " 'agree',\n",
       " 'with',\n",
       " 'and',\n",
       " 'have',\n",
       " 'an',\n",
       " 'npminn',\n",
       " 'ahnut.',\n",
       " 'Almost',\n",
       " 'all',\n",
       " 'newspapers',\n",
       " 'contain',\n",
       " 'lillers,',\n",
       " 'this',\n",
       " 'means',\n",
       " 'as',\n",
       " 'much',\n",
       " 'space',\n",
       " 'as',\n",
       " 'possible',\n",
       " 'always',\n",
       " 'has',\n",
       " 'to',\n",
       " 'hetaken',\n",
       " 'up',\n",
       " 'in',\n",
       " 'a',\n",
       " 'newspaper.',\n",
       " 'Most',\n",
       " 'otthe',\n",
       " 'photos',\n",
       " 'on',\n",
       " 'the',\n",
       " 'front',\n",
       " 'and',\n",
       " 'fllst',\n",
       " 'page',\n",
       " 'iscut',\n",
       " 'sothat',\n",
       " 'the',\n",
       " 'main',\n",
       " 'focus',\n",
       " 'is',\n",
       " 'onthe',\n",
       " 'person',\n",
       " 'rather',\n",
       " 'than',\n",
       " 'the',\n",
       " 'hackgrmmd.',\n",
       " 'This',\n",
       " 'then',\n",
       " 'gripsthe',\n",
       " 'reaoerstothe',\n",
       " 'photo',\n",
       " 'more.']"
      ]
     },
     "execution_count": 36,
     "metadata": {},
     "output_type": "execute_result"
    }
   ],
   "source": [
    "newdata=mydata.split()\n",
    "newdata"
   ]
  },
  {
   "cell_type": "code",
   "execution_count": 37,
   "metadata": {},
   "outputs": [
    {
     "data": {
      "text/plain": [
       "[\"A|quJnJ,'>{O0C|O1OL!9l\\\\O]9L{1\",\n",
       " 'WHEN',\n",
       " \"YOU'RE\",\n",
       " 'HAPPY',\n",
       " 'YOU',\n",
       " 'ENJOY',\n",
       " 'THE',\n",
       " 'MUSIC.',\n",
       " 'WHEN',\n",
       " \"YOU'RE\",\n",
       " 'SAD',\n",
       " 'YOU',\n",
       " 'UNDERSTAND',\n",
       " 'THE',\n",
       " 'LYRICS.']"
      ]
     },
     "execution_count": 37,
     "metadata": {},
     "output_type": "execute_result"
    }
   ],
   "source": [
    "data\n",
    "newdata1=data.split()\n",
    "newdata1"
   ]
  },
  {
   "cell_type": "code",
   "execution_count": 38,
   "metadata": {},
   "outputs": [
    {
     "name": "stderr",
     "output_type": "stream",
     "text": [
      "[nltk_data] Downloading package stopwords to C:\\Users\\bhavya\n",
      "[nltk_data]     vijay\\AppData\\Roaming\\nltk_data...\n",
      "[nltk_data]   Package stopwords is already up-to-date!\n"
     ]
    },
    {
     "data": {
      "text/plain": [
       "True"
      ]
     },
     "execution_count": 38,
     "metadata": {},
     "output_type": "execute_result"
    }
   ],
   "source": [
    "# NLTK graphs \n",
    "import matplotlib.pyplot as plt\n",
    "import nltk\n",
    "#%matplotlib inline # incase matplotlib is not  supporting by default with pandas and nltk\n",
    "# to replace plt.show() from any platform\n",
    "from nltk.corpus import  stopwords\n",
    "nltk.download('stopwords')\n",
    "\n",
    "#removedata=[i for i in mydata if i.lower() not in stopwords.words('english')]"
   ]
  },
  {
   "cell_type": "code",
   "execution_count": 39,
   "metadata": {},
   "outputs": [
    {
     "data": {
      "image/png": "[encoded data removed]",
      "text/plain": [
       "<Figure size 432x288 with 1 Axes>"
      ]
     },
     "metadata": {
      "needs_background": "light"
     },
     "output_type": "display_data"
    }
   ],
   "source": [
    "nlpdata=nltk.FreqDist(newdata)\n",
    "nlpdata.plot(20)"
   ]
  },
  {
   "cell_type": "code",
   "execution_count": 19,
   "metadata": {},
   "outputs": [
    {
     "data": {
      "image/png": "[encoded data removed]",
      "text/plain": [
       "<Figure size 432x288 with 1 Axes>"
      ]
     },
     "metadata": {
      "needs_background": "light"
     },
     "output_type": "display_data"
    }
   ],
   "source": [
    "nlpdata=nltk.FreqDist(newdata1)\n",
    "nlpdata.plot(20)"
   ]
  },
  {
   "cell_type": "code",
   "execution_count": null,
   "metadata": {},
   "outputs": [],
   "source": []
  }
 ],
 "metadata": {
  "kernelspec": {
   "display_name": "Python 3",
   "language": "python",
   "name": "python3"
  },
  "language_info": {
   "codemirror_mode": {
    "name": "ipython",
    "version": 3
   },
   "file_extension": ".py",
   "mimetype": "text/x-python",
   "name": "python",
   "nbconvert_exporter": "python",
   "pygments_lexer": "ipython3",
   "version": "3.7.3"
  }
 },
 "nbformat": 4,
 "nbformat_minor": 2
}
