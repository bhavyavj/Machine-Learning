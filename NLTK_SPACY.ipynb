{
  "nbformat": 4,
  "nbformat_minor": 0,
  "metadata": {
    "colab": {
      "name": "NLTK_SPACY.ipynb",
      "version": "0.3.2",
      "provenance": [],
      "include_colab_link": true
    },
    "kernelspec": {
      "name": "python3",
      "display_name": "Python 3"
    }
  },
  "cells": [
    {
      "cell_type": "markdown",
      "metadata": {
        "id": "view-in-github",
        "colab_type": "text"
      },
      "source": [
        "<a href=\"https://colab.research.google.com/github/bhavyavj/Machine-Learning/blob/master/NLTK_SPACY.ipynb\" target=\"_parent\"><img src=\"https://colab.research.google.com/assets/colab-badge.svg\" alt=\"Open In Colab\"/></a>"
      ]
    },
    {
      "cell_type": "code",
      "metadata": {
        "id": "KK5eGnpoeZzk",
        "colab_type": "code",
        "colab": {}
      },
      "source": [
        "import spacy \n",
        "\n",
        "# language en----\n",
        "nlp=spacy.load('en')"
      ],
      "execution_count": 0,
      "outputs": []
    },
    {
      "cell_type": "code",
      "metadata": {
        "id": "bifV4fcmfIw0",
        "colab_type": "code",
        "colab": {}
      },
      "source": [
        "data='hello world i am going out to play cricket'\n",
        "newdata=nlp(data)  #automatic tokenizer"
      ],
      "execution_count": 0,
      "outputs": []
    },
    {
      "cell_type": "code",
      "metadata": {
        "id": "fAkABqkofab1",
        "colab_type": "code",
        "outputId": "1a0c6556-e949-4dc2-b9b5-8740604174de",
        "colab": {
          "base_uri": "https://localhost:8080/",
          "height": 629
        }
      },
      "source": [
        "for i   in newdata:\n",
        "  print(i,\"Lemmatization of word is ---->\",i.lemma_)\n",
        "  print('--'*10)\n",
        "  print(i,\"POS \",i.pos)\n",
        "  print('-'*90)"
      ],
      "execution_count": 0,
      "outputs": [
        {
          "output_type": "stream",
          "text": [
            "hello Lemmatization of word is ----> hello\n",
            "--------------------\n",
            "hello POS  91\n",
            "------------------------------------------------------------------------------------------\n",
            "world Lemmatization of word is ----> world\n",
            "--------------------\n",
            "world POS  92\n",
            "------------------------------------------------------------------------------------------\n",
            "i Lemmatization of word is ----> i\n",
            "--------------------\n",
            "i POS  95\n",
            "------------------------------------------------------------------------------------------\n",
            "am Lemmatization of word is ----> be\n",
            "--------------------\n",
            "am POS  100\n",
            "------------------------------------------------------------------------------------------\n",
            "going Lemmatization of word is ----> go\n",
            "--------------------\n",
            "going POS  100\n",
            "------------------------------------------------------------------------------------------\n",
            "out Lemmatization of word is ----> out\n",
            "--------------------\n",
            "out POS  94\n",
            "------------------------------------------------------------------------------------------\n",
            "to Lemmatization of word is ----> to\n",
            "--------------------\n",
            "to POS  94\n",
            "------------------------------------------------------------------------------------------\n",
            "play Lemmatization of word is ----> play\n",
            "--------------------\n",
            "play POS  100\n",
            "------------------------------------------------------------------------------------------\n",
            "cricket Lemmatization of word is ----> cricket\n",
            "--------------------\n",
            "cricket POS  92\n",
            "------------------------------------------------------------------------------------------\n"
          ],
          "name": "stdout"
        }
      ]
    },
    {
      "cell_type": "code",
      "metadata": {
        "id": "RJfdJU7Sfnnk",
        "colab_type": "code",
        "colab": {}
      },
      "source": [
        " "
      ],
      "execution_count": 0,
      "outputs": []
    }
  ]
}