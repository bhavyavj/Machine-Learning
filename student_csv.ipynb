{
 "cells": [
  {
   "cell_type": "code",
   "execution_count": 2,
   "metadata": {},
   "outputs": [],
   "source": [
    "import numpy as np\n",
    "import matplotlib.pyplot as plt\n",
    "import pandas as pd\n",
    "import csv\n"
   ]
  },
  {
   "cell_type": "code",
   "execution_count": 9,
   "metadata": {},
   "outputs": [
    {
     "data": {
      "text/html": [
       "<div>\n",
       "<style scoped>\n",
       "    .dataframe tbody tr th:only-of-type {\n",
       "        vertical-align: middle;\n",
       "    }\n",
       "\n",
       "    .dataframe tbody tr th {\n",
       "        vertical-align: top;\n",
       "    }\n",
       "\n",
       "    .dataframe thead th {\n",
       "        text-align: right;\n",
       "    }\n",
       "</style>\n",
       "<table border=\"1\" class=\"dataframe\">\n",
       "  <thead>\n",
       "    <tr style=\"text-align: right;\">\n",
       "      <th></th>\n",
       "      <th>Student_name</th>\n",
       "      <th>Marks</th>\n",
       "      <th>Age</th>\n",
       "      <th>Contact</th>\n",
       "      <th>Study_Hours</th>\n",
       "    </tr>\n",
       "  </thead>\n",
       "  <tbody>\n",
       "    <tr>\n",
       "      <th>0</th>\n",
       "      <td>chetan</td>\n",
       "      <td>50</td>\n",
       "      <td>21</td>\n",
       "      <td>987654321</td>\n",
       "      <td>4</td>\n",
       "    </tr>\n",
       "    <tr>\n",
       "      <th>1</th>\n",
       "      <td>bhavya</td>\n",
       "      <td>30</td>\n",
       "      <td>20</td>\n",
       "      <td>911234567</td>\n",
       "      <td>2</td>\n",
       "    </tr>\n",
       "    <tr>\n",
       "      <th>2</th>\n",
       "      <td>aryan</td>\n",
       "      <td>40</td>\n",
       "      <td>20</td>\n",
       "      <td>965432781</td>\n",
       "      <td>3</td>\n",
       "    </tr>\n",
       "    <tr>\n",
       "      <th>3</th>\n",
       "      <td>anuj</td>\n",
       "      <td>35</td>\n",
       "      <td>20</td>\n",
       "      <td>908173641</td>\n",
       "      <td>2</td>\n",
       "    </tr>\n",
       "  </tbody>\n",
       "</table>\n",
       "</div>"
      ],
      "text/plain": [
       "  Student_name  Marks  Age    Contact  Study_Hours\n",
       "0       chetan     50   21  987654321            4\n",
       "1       bhavya     30   20  911234567            2\n",
       "2        aryan     40   20  965432781            3\n",
       "3         anuj     35   20  908173641            2"
      ]
     },
     "execution_count": 9,
     "metadata": {},
     "output_type": "execute_result"
    }
   ],
   "source": [
    "df=pd.read_csv('student.csv')\n",
    "df\n"
   ]
  },
  {
   "cell_type": "code",
   "execution_count": 8,
   "metadata": {},
   "outputs": [],
   "source": [
    "name=['chetan','bhavya','aryan','anuj']\n",
    "NMF=df['Marks']\n"
   ]
  },
  {
   "cell_type": "code",
   "execution_count": 7,
   "metadata": {},
   "outputs": [],
   "source": [
    "#df['Marks'].plot(kind='pie')\n",
    "Age=df['Age']\n",
    "SH=df['Study_Hours']\n"
   ]
  },
  {
   "cell_type": "code",
   "execution_count": 10,
   "metadata": {},
   "outputs": [
    {
     "data": {
      "text/plain": [
       "([<matplotlib.patches.Wedge at 0x1bccf624630>,\n",
       "  <matplotlib.patches.Wedge at 0x1bccf62f080>,\n",
       "  <matplotlib.patches.Wedge at 0x1bccf62fa20>,\n",
       "  <matplotlib.patches.Wedge at 0x1bccf63a400>],\n",
       " [Text(0.4569564802357173, 1.000595210447554, 'chetan'),\n",
       "  Text(-1.055442297353649, 0.30990572269135613, 'bhavya'),\n",
       "  Text(-0.456956386553231, -1.0005952532309026, 'aryan'),\n",
       "  Text(0.9253789873511787, -0.5947047416734687, 'anuj')],\n",
       " [Text(0.24924898921948213, 0.5457792056986657, '36.4'),\n",
       "  Text(-0.5756957985565357, 0.16903948510437605, '18.2'),\n",
       "  Text(-0.24924893811994417, -0.5457792290350377, '27.3'),\n",
       "  Text(0.5047521749188247, -0.3243844045491647, '18.2')])"
      ]
     },
     "execution_count": 10,
     "metadata": {},
     "output_type": "execute_result"
    },
    {
     "data": {
      "image/png": "[encoded data removed]",
      "text/plain": [
       "<Figure size 432x288 with 1 Axes>"
      ]
     },
     "metadata": {},
     "output_type": "display_data"
    }
   ],
   "source": [
    "#plt.pie(Age,labels=name, shadow=True)\n",
    "plt.pie(SH,labels=name, shadow=True,autopct='%1.1f')\n",
    "#"
   ]
  },
  {
   "cell_type": "code",
   "execution_count": 11,
   "metadata": {},
   "outputs": [
    {
     "data": {
      "text/plain": [
       "([<matplotlib.patches.Wedge at 0x1bccf72da58>,\n",
       "  <matplotlib.patches.Wedge at 0x1bccf737240>,\n",
       "  <matplotlib.patches.Wedge at 0x1bccf7379b0>,\n",
       "  <matplotlib.patches.Wedge at 0x1bccf8c3160>],\n",
       " [Text(0.7548658155281622, 0.8001109926422726, 'chetan'),\n",
       "  Text(-0.8145983930588835, 0.739208670150645, 'bhavya'),\n",
       "  Text(-0.7548658155281625, -0.8001109926422724, 'aryan'),\n",
       "  Text(0.7853227035621464, -0.7702390870826029, 'anuj')])"
      ]
     },
     "execution_count": 11,
     "metadata": {},
     "output_type": "execute_result"
    },
    {
     "data": {
      "image/png": "[encoded data removed]",
      "text/plain": [
       "<Figure size 432x288 with 1 Axes>"
      ]
     },
     "metadata": {},
     "output_type": "display_data"
    }
   ],
   "source": [
    "plt.pie(Age,labels=name, shadow=True)"
   ]
  },
  {
   "cell_type": "code",
   "execution_count": 12,
   "metadata": {},
   "outputs": [
    {
     "data": {
      "text/plain": [
       "([<matplotlib.patches.Wedge at 0x1bccf8f57f0>,\n",
       "  <matplotlib.patches.Wedge at 0x1bccf5c0208>,\n",
       "  <matplotlib.patches.Wedge at 0x1bccf5c0ba8>,\n",
       "  <matplotlib.patches.Wedge at 0x1bccf5ca588>],\n",
       " [Text(0.5818604395536556, 0.933508665670773, 'chetan'),\n",
       "  Text(-0.9617812358395109, 0.5338322343087042, 'bhavya'),\n",
       "  Text(-0.6733166858882887, -0.8698532292889483, 'aryan'),\n",
       "  Text(0.8346338159412022, -0.7165098696371375, 'anuj')],\n",
       " [Text(0.3173784215747212, 0.5091865449113306, '32.3'),\n",
       "  Text(-0.5246079468215513, 0.2911812187138386, '19.4'),\n",
       "  Text(-0.36726364684815743, -0.47446539779397173, '25.8'),\n",
       "  Text(0.4552548086952012, -0.3908235652566204, '22.6')])"
      ]
     },
     "execution_count": 12,
     "metadata": {},
     "output_type": "execute_result"
    },
    {
     "data": {
      "image/png": "[encoded data removed]",
      "text/plain": [
       "<Figure size 432x288 with 1 Axes>"
      ]
     },
     "metadata": {},
     "output_type": "display_data"
    }
   ],
   "source": [
    "plt.pie(NMF,labels=name, shadow=True,autopct='%1.1f')"
   ]
  },
  {
   "cell_type": "code",
   "execution_count": null,
   "metadata": {},
   "outputs": [],
   "source": []
  }
 ],
 "metadata": {
  "kernelspec": {
   "display_name": "Python 3",
   "language": "python",
   "name": "python3"
  },
  "language_info": {
   "codemirror_mode": {
    "name": "ipython",
    "version": 3
   },
   "file_extension": ".py",
   "mimetype": "text/x-python",
   "name": "python",
   "nbconvert_exporter": "python",
   "pygments_lexer": "ipython3",
   "version": "3.7.3"
  }
 },
 "nbformat": 4,
 "nbformat_minor": 2
}
