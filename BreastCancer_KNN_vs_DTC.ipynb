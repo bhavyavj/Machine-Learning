{
  "nbformat": 4,
  "nbformat_minor": 0,
  "metadata": {
    "colab": {
      "name": "BreastCancer_KNN vs DTC.ipynb",
      "version": "0.3.2",
      "provenance": [],
      "include_colab_link": true
    },
    "kernelspec": {
      "name": "python3",
      "display_name": "Python 3"
    }
  },
  "cells": [
    {
      "cell_type": "markdown",
      "metadata": {
        "id": "view-in-github",
        "colab_type": "text"
      },
      "source": [
        "<a href=\"https://colab.research.google.com/github/bhavyavj/Machine-Learning/blob/master/BreastCancer_KNN_vs_DTC.ipynb\" target=\"_parent\"><img src=\"https://colab.research.google.com/assets/colab-badge.svg\" alt=\"Open In Colab\"/></a>"
      ]
    },
    {
      "cell_type": "code",
      "metadata": {
        "id": "b6B06JRFnQxV",
        "colab_type": "code",
        "colab": {}
      },
      "source": [
        "from sklearn.tree import DecisionTreeClassifier\n",
        "from sklearn.datasets import load_breast_cancer\n",
        "from sklearn.neighbors import KNeighborsClassifier\n",
        "from sklearn.metrics import accuracy_score\n",
        "from sklearn.model_selection import train_test_split\n",
        "import matplotlib.pyplot as plt"
      ],
      "execution_count": 0,
      "outputs": []
    },
    {
      "cell_type": "code",
      "metadata": {
        "id": "rlhZiFTJnaPP",
        "colab_type": "code",
        "colab": {}
      },
      "source": [
        "brst=load_breast_cancer()"
      ],
      "execution_count": 0,
      "outputs": []
    },
    {
      "cell_type": "code",
      "metadata": {
        "id": "RekuybRCnepi",
        "colab_type": "code",
        "colab": {
          "base_uri": "https://localhost:8080/",
          "height": 34
        },
        "outputId": "6ad6628d-7fdd-4d64-d871-84b84644ff7a"
      },
      "source": [
        "dir(brst)"
      ],
      "execution_count": 3,
      "outputs": [
        {
          "output_type": "execute_result",
          "data": {
            "text/plain": [
              "['DESCR', 'data', 'feature_names', 'filename', 'target', 'target_names']"
            ]
          },
          "metadata": {
            "tags": []
          },
          "execution_count": 3
        }
      ]
    },
    {
      "cell_type": "code",
      "metadata": {
        "id": "NamuYriFni7c",
        "colab_type": "code",
        "colab": {}
      },
      "source": [
        "brst_f=brst.data"
      ],
      "execution_count": 0,
      "outputs": []
    },
    {
      "cell_type": "code",
      "metadata": {
        "id": "Lrfv3iaenll2",
        "colab_type": "code",
        "colab": {}
      },
      "source": [
        "label=brst.target"
      ],
      "execution_count": 0,
      "outputs": []
    },
    {
      "cell_type": "code",
      "metadata": {
        "id": "JQQIfYoInotQ",
        "colab_type": "code",
        "colab": {}
      },
      "source": [
        "train_data, test_data, train_label,test_label = train_test_split(brst_f,label , test_size=0.33)"
      ],
      "execution_count": 0,
      "outputs": []
    },
    {
      "cell_type": "code",
      "metadata": {
        "id": "grtQdBMrnsJz",
        "colab_type": "code",
        "colab": {}
      },
      "source": [
        "kclf=KNeighborsClassifier()\n",
        "clf=DecisionTreeClassifier()"
      ],
      "execution_count": 0,
      "outputs": []
    },
    {
      "cell_type": "code",
      "metadata": {
        "id": "9dZEOxKxnu0I",
        "colab_type": "code",
        "colab": {}
      },
      "source": [
        "ktrained=kclf.fit(train_data,train_label)\n",
        "dtrained=clf.fit(train_data,train_label)"
      ],
      "execution_count": 0,
      "outputs": []
    },
    {
      "cell_type": "code",
      "metadata": {
        "id": "d49jtAp3nyEO",
        "colab_type": "code",
        "colab": {}
      },
      "source": [
        "predict=ktrained.predict(test_data)\n",
        "prediction=dtrained.predict(test_data)"
      ],
      "execution_count": 0,
      "outputs": []
    },
    {
      "cell_type": "code",
      "metadata": {
        "id": "26Mw9ol8n02g",
        "colab_type": "code",
        "colab": {}
      },
      "source": [
        "ac=accuracy_score(test_label,predict)\n",
        "acc=accuracy_score(test_label,prediction)"
      ],
      "execution_count": 0,
      "outputs": []
    },
    {
      "cell_type": "code",
      "metadata": {
        "id": "qo0BuzNOn3gR",
        "colab_type": "code",
        "colab": {}
      },
      "source": [
        "x=[ac,acc]"
      ],
      "execution_count": 0,
      "outputs": []
    },
    {
      "cell_type": "code",
      "metadata": {
        "id": "A35x9k-gn6qI",
        "colab_type": "code",
        "colab": {}
      },
      "source": [
        "label=['KNN_predicted','DTC_predicted']"
      ],
      "execution_count": 0,
      "outputs": []
    },
    {
      "cell_type": "code",
      "metadata": {
        "id": "IX1f7JV0ocku",
        "colab_type": "code",
        "colab": {
          "base_uri": "https://localhost:8080/",
          "height": 287
        },
        "outputId": "1483d2fd-7c50-4247-b18a-120197ad9eaf"
      },
      "source": [
        "plt.bar(label,x,width=0.3,label='KNN')"
      ],
      "execution_count": 16,
      "outputs": [
        {
          "output_type": "execute_result",
          "data": {
            "text/plain": [
              "<BarContainer object of 2 artists>"
            ]
          },
          "metadata": {
            "tags": []
          },
          "execution_count": 16
        },
        {
          "output_type": "display_data",
          "data": {
            "image/png": "[encoded data removed]",
            "text/plain": [
              "<Figure size 432x288 with 1 Axes>"
            ]
          },
          "metadata": {
            "tags": []
          }
        }
      ]
    },
    {
      "cell_type": "code",
      "metadata": {
        "id": "gGbdS-HHo2Un",
        "colab_type": "code",
        "colab": {
          "base_uri": "https://localhost:8080/",
          "height": 323
        },
        "outputId": "bd296720-76da-4ff6-e9ab-e21a25668575"
      },
      "source": [
        "plt.pie(x,labels=label)"
      ],
      "execution_count": 17,
      "outputs": [
        {
          "output_type": "execute_result",
          "data": {
            "text/plain": [
              "([<matplotlib.patches.Wedge at 0x7fb90d4a8860>,\n",
              "  <matplotlib.patches.Wedge at 0x7fb90d4a8d30>],\n",
              " [Text(0.004950891297191409, 1.0999888584323767, 'KNN_predicted'),\n",
              "  Text(-0.004950891297192034, -1.0999888584323767, 'DTC_predicted')])"
            ]
          },
          "metadata": {
            "tags": []
          },
          "execution_count": 17
        },
        {
          "output_type": "display_data",
          "data": {
            "image/png": "[encoded data removed]",
            "text/plain": [
              "<Figure size 432x288 with 1 Axes>"
            ]
          },
          "metadata": {
            "tags": []
          }
        }
      ]
    },
    {
      "cell_type": "code",
      "metadata": {
        "id": "DhxAtJJppYZn",
        "colab_type": "code",
        "colab": {}
      },
      "source": [
        ""
      ],
      "execution_count": 0,
      "outputs": []
    }
  ]
}