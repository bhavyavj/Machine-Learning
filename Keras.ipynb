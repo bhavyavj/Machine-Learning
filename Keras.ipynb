{
 "cells": [
  {
   "cell_type": "code",
   "execution_count": 1,
   "metadata": {},
   "outputs": [
    {
     "name": "stdout",
     "output_type": "stream",
     "text": [
      "<class 'pandas.core.frame.DataFrame'>\n",
      "RangeIndex: 10000 entries, 0 to 9999\n",
      "Data columns (total 14 columns):\n",
      "RowNumber          10000 non-null int64\n",
      "CustomerId         10000 non-null int64\n",
      "Surname            10000 non-null object\n",
      "CreditScore        10000 non-null int64\n",
      "Geography          10000 non-null object\n",
      "Gender             10000 non-null object\n",
      "Age                10000 non-null int64\n",
      "Tenure             10000 non-null int64\n",
      "Balance            10000 non-null float64\n",
      "NumOfProducts      10000 non-null int64\n",
      "HasCrCard          10000 non-null int64\n",
      "IsActiveMember     10000 non-null int64\n",
      "EstimatedSalary    10000 non-null float64\n",
      "Exited             10000 non-null int64\n",
      "dtypes: float64(2), int64(9), object(3)\n",
      "memory usage: 1.1+ MB\n"
     ]
    }
   ],
   "source": [
    "import pandas as pd\n",
    "import numpy as np\n",
    "import matplotlib.pyplot as plt\n",
    "import seaborn as sb\n",
    "import tensorflow as tf\n",
    "\n",
    "df=pd.read_csv('http://13.234.66.67/summer19/datasets/bank.csv')\n",
    "df.info()"
   ]
  },
  {
   "cell_type": "code",
   "execution_count": 2,
   "metadata": {},
   "outputs": [
    {
     "data": {
      "text/plain": [
       "(10000,)"
      ]
     },
     "execution_count": 2,
     "metadata": {},
     "output_type": "execute_result"
    }
   ],
   "source": [
    "features=df.iloc[:,3:13].values\n",
    "features.shape\n",
    "label=df.iloc[:,13].values\n",
    "label.shape"
   ]
  },
  {
   "cell_type": "code",
   "execution_count": 3,
   "metadata": {},
   "outputs": [
    {
     "name": "stderr",
     "output_type": "stream",
     "text": [
      "C:\\ProgramData\\Anaconda3\\lib\\site-packages\\sklearn\\preprocessing\\_encoders.py:371: FutureWarning: The handling of integer data will change in version 0.22. Currently, the categories are determined based on the range [0, max(values)], while in the future they will be determined based on the unique values.\n",
      "If you want the future behaviour and silence this warning, you can specify \"categories='auto'\".\n",
      "In case you used a LabelEncoder before this OneHotEncoder to convert the categories to integers, then you can now use the OneHotEncoder directly.\n",
      "  warnings.warn(msg, FutureWarning)\n",
      "C:\\ProgramData\\Anaconda3\\lib\\site-packages\\sklearn\\preprocessing\\_encoders.py:392: DeprecationWarning: The 'categorical_features' keyword is deprecated in version 0.20 and will be removed in 0.22. You can use the ColumnTransformer instead.\n",
      "  \"use the ColumnTransformer instead.\", DeprecationWarning)\n"
     ]
    },
    {
     "data": {
      "text/plain": [
       "(10000, 12)"
      ]
     },
     "execution_count": 3,
     "metadata": {},
     "output_type": "execute_result"
    }
   ],
   "source": [
    "from sklearn.preprocessing import LabelEncoder\n",
    "lbc=LabelEncoder()\n",
    "features[:,1]=lbc.fit_transform(features[:,1])\n",
    "#features.shape\n",
    "#creating dummmy variable\n",
    "features[:,2]=lbc.fit_transform(features[:,2])\n",
    "from sklearn.preprocessing import OneHotEncoder\n",
    "counthot=OneHotEncoder(categorical_features=[1])\n",
    "features=counthot.fit_transform(features).toarray()\n",
    "features1=features[:,1:]\n",
    "features.shape"
   ]
  },
  {
   "cell_type": "code",
   "execution_count": 4,
   "metadata": {},
   "outputs": [],
   "source": [
    "from sklearn.model_selection import train_test_split\n",
    "from sklearn.preprocessing import StandardScaler"
   ]
  },
  {
   "cell_type": "code",
   "execution_count": 5,
   "metadata": {},
   "outputs": [],
   "source": [
    "X,x,Y,y=train_test_split(features1,label,test_size=0.2)"
   ]
  },
  {
   "cell_type": "code",
   "execution_count": 6,
   "metadata": {},
   "outputs": [
    {
     "data": {
      "text/plain": [
       "(8000, 11)"
      ]
     },
     "execution_count": 6,
     "metadata": {},
     "output_type": "execute_result"
    }
   ],
   "source": [
    "sc=StandardScaler()\n",
    "# training data scale\n",
    "X=sc.fit_transform(X)\n",
    "# testing data transform\n",
    "x=sc.transform(x)\n",
    "#X\n",
    "X.shape"
   ]
  },
  {
   "cell_type": "code",
   "execution_count": 7,
   "metadata": {},
   "outputs": [
    {
     "name": "stdout",
     "output_type": "stream",
     "text": [
      "Requirement already satisfied: keras in c:\\programdata\\anaconda3\\lib\\site-packages (2.2.4)\n",
      "Requirement already satisfied: six>=1.9.0 in c:\\programdata\\anaconda3\\lib\\site-packages (from keras) (1.12.0)\n",
      "Requirement already satisfied: pyyaml in c:\\programdata\\anaconda3\\lib\\site-packages (from keras) (5.1)\n",
      "Requirement already satisfied: numpy>=1.9.1 in c:\\programdata\\anaconda3\\lib\\site-packages (from keras) (1.16.2)\n",
      "Requirement already satisfied: scipy>=0.14 in c:\\programdata\\anaconda3\\lib\\site-packages (from keras) (1.2.1)\n",
      "Requirement already satisfied: keras-preprocessing>=1.0.5 in c:\\programdata\\anaconda3\\lib\\site-packages (from keras) (1.1.0)\n",
      "Requirement already satisfied: h5py in c:\\programdata\\anaconda3\\lib\\site-packages (from keras) (2.9.0)\n",
      "Requirement already satisfied: keras-applications>=1.0.6 in c:\\programdata\\anaconda3\\lib\\site-packages (from keras) (1.0.8)\n"
     ]
    },
    {
     "name": "stderr",
     "output_type": "stream",
     "text": [
      "Using TensorFlow backend.\n"
     ]
    }
   ],
   "source": [
    "!pip install keras\n",
    "import keras # this is way of using tensorflow in background\n",
    "#Keras ANN model lib import\n",
    "from keras.models import Sequential"
   ]
  },
  {
   "cell_type": "code",
   "execution_count": 8,
   "metadata": {},
   "outputs": [
    {
     "name": "stderr",
     "output_type": "stream",
     "text": [
      "WARNING: Logging before flag parsing goes to stderr.\n",
      "W0708 16:19:22.198455 11680 deprecation_wrapper.py:119] From C:\\ProgramData\\Anaconda3\\lib\\site-packages\\keras\\backend\\tensorflow_backend.py:74: The name tf.get_default_graph is deprecated. Please use tf.compat.v1.get_default_graph instead.\n",
      "\n"
     ]
    }
   ],
   "source": [
    "# this will offer data in each layer\n",
    "from keras.layers import Dense\n",
    "model=Sequential()"
   ]
  },
  {
   "cell_type": "code",
   "execution_count": 9,
   "metadata": {},
   "outputs": [
    {
     "name": "stderr",
     "output_type": "stream",
     "text": [
      "W0708 16:19:22.354254 11680 deprecation_wrapper.py:119] From C:\\ProgramData\\Anaconda3\\lib\\site-packages\\keras\\backend\\tensorflow_backend.py:517: The name tf.placeholder is deprecated. Please use tf.compat.v1.placeholder instead.\n",
      "\n",
      "W0708 16:19:22.369867 11680 deprecation_wrapper.py:119] From C:\\ProgramData\\Anaconda3\\lib\\site-packages\\keras\\backend\\tensorflow_backend.py:4138: The name tf.random_uniform is deprecated. Please use tf.random.uniform instead.\n",
      "\n"
     ]
    }
   ],
   "source": [
    "# now we can design model \n",
    "model.add(Dense(6,input_shape=(11,),activation=\"relu\"))\n",
    "# relu --means rectifier activation function"
   ]
  },
  {
   "cell_type": "code",
   "execution_count": 10,
   "metadata": {},
   "outputs": [],
   "source": [
    "# adding one hidden layer \n",
    "model.add(Dense(6,activation='relu'))\n",
    "# note we don't have to assign no. of inputs after first/ input  layer"
   ]
  },
  {
   "cell_type": "code",
   "execution_count": 11,
   "metadata": {},
   "outputs": [],
   "source": [
    "# final layer adding \n",
    "model.add(Dense(1,activation='sigmoid'))"
   ]
  },
  {
   "cell_type": "code",
   "execution_count": 12,
   "metadata": {},
   "outputs": [
    {
     "name": "stderr",
     "output_type": "stream",
     "text": [
      "W0708 16:19:22.707288 11680 deprecation_wrapper.py:119] From C:\\ProgramData\\Anaconda3\\lib\\site-packages\\keras\\optimizers.py:790: The name tf.train.Optimizer is deprecated. Please use tf.compat.v1.train.Optimizer instead.\n",
      "\n",
      "W0708 16:19:22.763998 11680 deprecation_wrapper.py:119] From C:\\ProgramData\\Anaconda3\\lib\\site-packages\\keras\\backend\\tensorflow_backend.py:3376: The name tf.log is deprecated. Please use tf.math.log instead.\n",
      "\n",
      "W0708 16:19:22.767992 11680 deprecation.py:323] From C:\\ProgramData\\Anaconda3\\lib\\site-packages\\tensorflow\\python\\ops\\nn_impl.py:180: add_dispatch_support.<locals>.wrapper (from tensorflow.python.ops.array_ops) is deprecated and will be removed in a future version.\n",
      "Instructions for updating:\n",
      "Use tf.where in 2.0, which has the same broadcast rule as np.where\n"
     ]
    }
   ],
   "source": [
    "# compile\n",
    "model.compile(optimizer='adam',loss='binary_crossentropy',metrics=['accuracy'])\n",
    "#    optimiser  --  weight adjust method  --stochitics g  d (adam)"
   ]
  },
  {
   "cell_type": "code",
   "execution_count": 22,
   "metadata": {},
   "outputs": [
    {
     "name": "stdout",
     "output_type": "stream",
     "text": [
      "Epoch 1/100\n",
      "8000/8000 [==============================] - 0s 1us/step - loss: 0.3482 - acc: 0.8604\n",
      "Epoch 2/100\n",
      "8000/8000 [==============================] - 0s 1us/step - loss: 0.3480 - acc: 0.8604\n",
      "Epoch 3/100\n",
      "8000/8000 [==============================] - 0s 1us/step - loss: 0.3479 - acc: 0.8601\n",
      "Epoch 4/100\n",
      "8000/8000 [==============================] - 0s 2us/step - loss: 0.3478 - acc: 0.8601\n",
      "Epoch 5/100\n",
      "8000/8000 [==============================] - 0s 1us/step - loss: 0.3476 - acc: 0.8599\n",
      "Epoch 6/100\n",
      "8000/8000 [==============================] - 0s 2us/step - loss: 0.3475 - acc: 0.8596\n",
      "Epoch 7/100\n",
      "8000/8000 [==============================] - 0s 1us/step - loss: 0.3474 - acc: 0.8596\n",
      "Epoch 8/100\n",
      "8000/8000 [==============================] - 0s 1us/step - loss: 0.3473 - acc: 0.8596\n",
      "Epoch 9/100\n",
      "8000/8000 [==============================] - 0s 1us/step - loss: 0.3472 - acc: 0.8594\n",
      "Epoch 10/100\n",
      "8000/8000 [==============================] - 0s 1us/step - loss: 0.3470 - acc: 0.8595\n",
      "Epoch 11/100\n",
      "8000/8000 [==============================] - 0s 1us/step - loss: 0.3469 - acc: 0.8595\n",
      "Epoch 12/100\n",
      "8000/8000 [==============================] - 0s 1us/step - loss: 0.3468 - acc: 0.8598\n",
      "Epoch 13/100\n",
      "8000/8000 [==============================] - 0s 1us/step - loss: 0.3467 - acc: 0.8593\n",
      "Epoch 14/100\n",
      "8000/8000 [==============================] - 0s 1us/step - loss: 0.3466 - acc: 0.8590\n",
      "Epoch 15/100\n",
      "8000/8000 [==============================] - 0s 1us/step - loss: 0.3465 - acc: 0.8591\n",
      "Epoch 16/100\n",
      "8000/8000 [==============================] - 0s 2us/step - loss: 0.3464 - acc: 0.8599\n",
      "Epoch 17/100\n",
      "8000/8000 [==============================] - 0s 1us/step - loss: 0.3464 - acc: 0.8596\n",
      "Epoch 18/100\n",
      "8000/8000 [==============================] - 0s 1us/step - loss: 0.3463 - acc: 0.8594\n",
      "Epoch 19/100\n",
      "8000/8000 [==============================] - 0s 1us/step - loss: 0.3462 - acc: 0.8598\n",
      "Epoch 20/100\n",
      "8000/8000 [==============================] - 0s 1us/step - loss: 0.3461 - acc: 0.8595\n",
      "Epoch 21/100\n",
      "8000/8000 [==============================] - 0s 1us/step - loss: 0.3460 - acc: 0.8596\n",
      "Epoch 22/100\n",
      "8000/8000 [==============================] - 0s 2us/step - loss: 0.3459 - acc: 0.8596\n",
      "Epoch 23/100\n",
      "8000/8000 [==============================] - 0s 2us/step - loss: 0.3459 - acc: 0.8598\n",
      "Epoch 24/100\n",
      "8000/8000 [==============================] - 0s 1us/step - loss: 0.3458 - acc: 0.8597\n",
      "Epoch 25/100\n",
      "8000/8000 [==============================] - 0s 2us/step - loss: 0.3457 - acc: 0.8599\n",
      "Epoch 26/100\n",
      "8000/8000 [==============================] - 0s 1us/step - loss: 0.3456 - acc: 0.8601\n",
      "Epoch 27/100\n",
      "8000/8000 [==============================] - 0s 1us/step - loss: 0.3456 - acc: 0.8601\n",
      "Epoch 28/100\n",
      "8000/8000 [==============================] - 0s 1us/step - loss: 0.3455 - acc: 0.8600\n",
      "Epoch 29/100\n",
      "8000/8000 [==============================] - 0s 1us/step - loss: 0.3454 - acc: 0.8598\n",
      "Epoch 30/100\n",
      "8000/8000 [==============================] - 0s 1us/step - loss: 0.3454 - acc: 0.8600\n",
      "Epoch 31/100\n",
      "8000/8000 [==============================] - 0s 1us/step - loss: 0.3453 - acc: 0.8600\n",
      "Epoch 32/100\n",
      "8000/8000 [==============================] - 0s 1us/step - loss: 0.3452 - acc: 0.8599\n",
      "Epoch 33/100\n",
      "8000/8000 [==============================] - 0s 1us/step - loss: 0.3452 - acc: 0.8596\n",
      "Epoch 34/100\n",
      "8000/8000 [==============================] - 0s 1us/step - loss: 0.3451 - acc: 0.8595\n",
      "Epoch 35/100\n",
      "8000/8000 [==============================] - 0s 1us/step - loss: 0.3450 - acc: 0.8595\n",
      "Epoch 36/100\n",
      "8000/8000 [==============================] - 0s 2us/step - loss: 0.3450 - acc: 0.8598\n",
      "Epoch 37/100\n",
      "8000/8000 [==============================] - 0s 2us/step - loss: 0.3449 - acc: 0.8596\n",
      "Epoch 38/100\n",
      "8000/8000 [==============================] - 0s 1us/step - loss: 0.3449 - acc: 0.8595\n",
      "Epoch 39/100\n",
      "8000/8000 [==============================] - 0s 1us/step - loss: 0.3448 - acc: 0.8594\n",
      "Epoch 40/100\n",
      "8000/8000 [==============================] - 0s 1us/step - loss: 0.3447 - acc: 0.8594\n",
      "Epoch 41/100\n",
      "8000/8000 [==============================] - 0s 1us/step - loss: 0.3447 - acc: 0.8595\n",
      "Epoch 42/100\n",
      "8000/8000 [==============================] - 0s 1us/step - loss: 0.3446 - acc: 0.8599\n",
      "Epoch 43/100\n",
      "8000/8000 [==============================] - 0s 1us/step - loss: 0.3446 - acc: 0.8595\n",
      "Epoch 44/100\n",
      "8000/8000 [==============================] - 0s 1us/step - loss: 0.3445 - acc: 0.8589\n",
      "Epoch 45/100\n",
      "8000/8000 [==============================] - 0s 2us/step - loss: 0.3444 - acc: 0.8591\n",
      "Epoch 46/100\n",
      "8000/8000 [==============================] - 0s 1us/step - loss: 0.3444 - acc: 0.8589\n",
      "Epoch 47/100\n",
      "8000/8000 [==============================] - 0s 1us/step - loss: 0.3443 - acc: 0.8593\n",
      "Epoch 48/100\n",
      "8000/8000 [==============================] - 0s 1us/step - loss: 0.3443 - acc: 0.8591\n",
      "Epoch 49/100\n",
      "8000/8000 [==============================] - 0s 1us/step - loss: 0.3442 - acc: 0.8588\n",
      "Epoch 50/100\n",
      "8000/8000 [==============================] - 0s 2us/step - loss: 0.3441 - acc: 0.8591\n",
      "Epoch 51/100\n",
      "8000/8000 [==============================] - 0s 1us/step - loss: 0.3441 - acc: 0.8591\n",
      "Epoch 52/100\n",
      "8000/8000 [==============================] - 0s 1us/step - loss: 0.3440 - acc: 0.8592\n",
      "Epoch 53/100\n",
      "8000/8000 [==============================] - 0s 1us/step - loss: 0.3440 - acc: 0.8592\n",
      "Epoch 54/100\n",
      "8000/8000 [==============================] - 0s 1us/step - loss: 0.3439 - acc: 0.8591\n",
      "Epoch 55/100\n",
      "8000/8000 [==============================] - 0s 2us/step - loss: 0.3439 - acc: 0.8593\n",
      "Epoch 56/100\n",
      "8000/8000 [==============================] - 0s 2us/step - loss: 0.3438 - acc: 0.8595\n",
      "Epoch 57/100\n",
      "8000/8000 [==============================] - 0s 1us/step - loss: 0.3438 - acc: 0.8596\n",
      "Epoch 58/100\n",
      "8000/8000 [==============================] - 0s 1us/step - loss: 0.3437 - acc: 0.8594\n",
      "Epoch 59/100\n",
      "8000/8000 [==============================] - 0s 1us/step - loss: 0.3437 - acc: 0.8594\n",
      "Epoch 60/100\n",
      "8000/8000 [==============================] - 0s 1us/step - loss: 0.3436 - acc: 0.8592\n",
      "Epoch 61/100\n",
      "8000/8000 [==============================] - 0s 1us/step - loss: 0.3436 - acc: 0.8594\n",
      "Epoch 62/100\n",
      "8000/8000 [==============================] - 0s 1us/step - loss: 0.3435 - acc: 0.8595\n",
      "Epoch 63/100\n",
      "8000/8000 [==============================] - 0s 1us/step - loss: 0.3435 - acc: 0.8594\n",
      "Epoch 64/100\n",
      "8000/8000 [==============================] - 0s 1us/step - loss: 0.3434 - acc: 0.8595\n",
      "Epoch 65/100\n",
      "8000/8000 [==============================] - 0s 2us/step - loss: 0.3434 - acc: 0.8595\n",
      "Epoch 66/100\n",
      "8000/8000 [==============================] - 0s 1us/step - loss: 0.3433 - acc: 0.8594\n",
      "Epoch 67/100\n",
      "8000/8000 [==============================] - 0s 1us/step - loss: 0.3433 - acc: 0.8595\n",
      "Epoch 68/100\n",
      "8000/8000 [==============================] - 0s 1us/step - loss: 0.3432 - acc: 0.8593\n",
      "Epoch 69/100\n",
      "8000/8000 [==============================] - 0s 1us/step - loss: 0.3432 - acc: 0.8594\n",
      "Epoch 70/100\n",
      "8000/8000 [==============================] - 0s 1us/step - loss: 0.3431 - acc: 0.8591\n",
      "Epoch 71/100\n",
      "8000/8000 [==============================] - 0s 2us/step - loss: 0.3431 - acc: 0.8593\n",
      "Epoch 72/100\n",
      "8000/8000 [==============================] - 0s 2us/step - loss: 0.3431 - acc: 0.8594\n",
      "Epoch 73/100\n",
      "8000/8000 [==============================] - 0s 1us/step - loss: 0.3430 - acc: 0.8590\n",
      "Epoch 74/100\n",
      "8000/8000 [==============================] - 0s 1us/step - loss: 0.3429 - acc: 0.8588\n",
      "Epoch 75/100\n",
      "8000/8000 [==============================] - 0s 1us/step - loss: 0.3429 - acc: 0.8584\n",
      "Epoch 76/100\n",
      "8000/8000 [==============================] - 0s 1us/step - loss: 0.3429 - acc: 0.8585\n",
      "Epoch 77/100\n",
      "8000/8000 [==============================] - 0s 1us/step - loss: 0.3428 - acc: 0.8585\n",
      "Epoch 78/100\n",
      "8000/8000 [==============================] - 0s 2us/step - loss: 0.3428 - acc: 0.8588\n",
      "Epoch 79/100\n",
      "8000/8000 [==============================] - 0s 1us/step - loss: 0.3427 - acc: 0.8589\n",
      "Epoch 80/100\n",
      "8000/8000 [==============================] - 0s 1us/step - loss: 0.3427 - acc: 0.8591\n",
      "Epoch 81/100\n",
      "8000/8000 [==============================] - 0s 1us/step - loss: 0.3427 - acc: 0.8591\n",
      "Epoch 82/100\n",
      "8000/8000 [==============================] - 0s 1us/step - loss: 0.3426 - acc: 0.8589\n",
      "Epoch 83/100\n"
     ]
    },
    {
     "name": "stdout",
     "output_type": "stream",
     "text": [
      "8000/8000 [==============================] - 0s 1us/step - loss: 0.3426 - acc: 0.8591\n",
      "Epoch 84/100\n",
      "8000/8000 [==============================] - 0s 1us/step - loss: 0.3425 - acc: 0.8594\n",
      "Epoch 85/100\n",
      "8000/8000 [==============================] - 0s 2us/step - loss: 0.3425 - acc: 0.8590\n",
      "Epoch 86/100\n",
      "8000/8000 [==============================] - ETA: 0s - loss: 0.3223 - acc: 0.865 - 0s 1us/step - loss: 0.3425 - acc: 0.8590\n",
      "Epoch 87/100\n",
      "8000/8000 [==============================] - 0s 1us/step - loss: 0.3424 - acc: 0.8592\n",
      "Epoch 88/100\n",
      "8000/8000 [==============================] - 0s 1us/step - loss: 0.3424 - acc: 0.8591\n",
      "Epoch 89/100\n",
      "8000/8000 [==============================] - 0s 2us/step - loss: 0.3423 - acc: 0.8592\n",
      "Epoch 90/100\n",
      "8000/8000 [==============================] - 0s 1us/step - loss: 0.3423 - acc: 0.8595\n",
      "Epoch 91/100\n",
      "8000/8000 [==============================] - 0s 1us/step - loss: 0.3422 - acc: 0.8594\n",
      "Epoch 92/100\n",
      "8000/8000 [==============================] - 0s 1us/step - loss: 0.3422 - acc: 0.8594\n",
      "Epoch 93/100\n",
      "8000/8000 [==============================] - 0s 1us/step - loss: 0.3422 - acc: 0.8595\n",
      "Epoch 94/100\n",
      "8000/8000 [==============================] - 0s 1us/step - loss: 0.3421 - acc: 0.8596\n",
      "Epoch 95/100\n",
      "8000/8000 [==============================] - 0s 1us/step - loss: 0.3421 - acc: 0.8596\n",
      "Epoch 96/100\n",
      "8000/8000 [==============================] - 0s 1us/step - loss: 0.3421 - acc: 0.8599\n",
      "Epoch 97/100\n",
      "8000/8000 [==============================] - 0s 1us/step - loss: 0.3420 - acc: 0.8600\n",
      "Epoch 98/100\n",
      "8000/8000 [==============================] - 0s 1us/step - loss: 0.3420 - acc: 0.8599\n",
      "Epoch 99/100\n",
      "8000/8000 [==============================] - 0s 1us/step - loss: 0.3419 - acc: 0.8597\n",
      "Epoch 100/100\n",
      "8000/8000 [==============================] - 0s 1us/step - loss: 0.3419 - acc: 0.8596\n"
     ]
    },
    {
     "data": {
      "text/plain": [
       "<keras.callbacks.History at 0x159397cf6a0>"
      ]
     },
     "execution_count": 22,
     "metadata": {},
     "output_type": "execute_result"
    }
   ],
   "source": [
    "# training data fit\n",
    "model.fit(X,Y,batch_size=2000,epochs=100)"
   ]
  },
  {
   "cell_type": "code",
   "execution_count": 23,
   "metadata": {},
   "outputs": [
    {
     "data": {
      "text/plain": [
       "0.19088565"
      ]
     },
     "execution_count": 23,
     "metadata": {},
     "output_type": "execute_result"
    }
   ],
   "source": [
    "model.predict(x).mean() # now prediction test data"
   ]
  },
  {
   "cell_type": "code",
   "execution_count": null,
   "metadata": {},
   "outputs": [],
   "source": []
  },
  {
   "cell_type": "code",
   "execution_count": null,
   "metadata": {},
   "outputs": [],
   "source": []
  }
 ],
 "metadata": {
  "kernelspec": {
   "display_name": "Python 3",
   "language": "python",
   "name": "python3"
  },
  "language_info": {
   "codemirror_mode": {
    "name": "ipython",
    "version": 3
   },
   "file_extension": ".py",
   "mimetype": "text/x-python",
   "name": "python",
   "nbconvert_exporter": "python",
   "pygments_lexer": "ipython3",
   "version": "3.7.3"
  }
 },
 "nbformat": 4,
 "nbformat_minor": 2
}
