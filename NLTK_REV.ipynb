{
  "nbformat": 4,
  "nbformat_minor": 0,
  "metadata": {
    "colab": {
      "name": "NLTK_REV.ipynb",
      "version": "0.3.2",
      "provenance": [],
      "include_colab_link": true
    },
    "kernelspec": {
      "name": "python3",
      "display_name": "Python 3"
    }
  },
  "cells": [
    {
      "cell_type": "markdown",
      "metadata": {
        "id": "view-in-github",
        "colab_type": "text"
      },
      "source": [
        "<a href=\"https://colab.research.google.com/github/bhavyavj/Machine-Learning/blob/master/NLTK_REV.ipynb\" target=\"_parent\"><img src=\"https://colab.research.google.com/assets/colab-badge.svg\" alt=\"Open In Colab\"/></a>"
      ]
    },
    {
      "cell_type": "code",
      "metadata": {
        "id": "X50YOQ_Wbi9e",
        "colab_type": "code",
        "colab": {}
      },
      "source": [
        "from nltk.tokenize import sent_tokenize,word_tokenize\n",
        "from nltk.stem import  PorterStemmer,WordNetLemmatizer\n",
        "from nltk.corpus import stopwords"
      ],
      "execution_count": 0,
      "outputs": []
    },
    {
      "cell_type": "code",
      "metadata": {
        "id": "5I8Sf5oVbkvS",
        "colab_type": "code",
        "colab": {}
      },
      "source": [
        "data=\"hello this is bhavya currently pursuing btech from jecrc\""
      ],
      "execution_count": 0,
      "outputs": []
    },
    {
      "cell_type": "code",
      "metadata": {
        "id": "KtBg7qhXbnQy",
        "colab_type": "code",
        "outputId": "fc538fa8-a1c7-495f-bde2-578eef50b931",
        "colab": {
          "base_uri": "https://localhost:8080/",
          "height": 51
        }
      },
      "source": [
        "import nltk \n",
        "nltk.download('punkt')\n",
        "tdata=word_tokenize(data)"
      ],
      "execution_count": 0,
      "outputs": [
        {
          "output_type": "stream",
          "text": [
            "[nltk_data] Downloading package punkt to /root/nltk_data...\n",
            "[nltk_data]   Unzipping tokenizers/punkt.zip.\n"
          ],
          "name": "stdout"
        }
      ]
    },
    {
      "cell_type": "code",
      "metadata": {
        "id": "70QSke58bqV-",
        "colab_type": "code",
        "outputId": "b256cdba-9843-46b2-8516-a2a1cc06b268",
        "colab": {
          "base_uri": "https://localhost:8080/",
          "height": 170
        }
      },
      "source": [
        "tdata"
      ],
      "execution_count": 0,
      "outputs": [
        {
          "output_type": "execute_result",
          "data": {
            "text/plain": [
              "['hello',\n",
              " 'this',\n",
              " 'is',\n",
              " 'bhavya',\n",
              " 'currently',\n",
              " 'pursuing',\n",
              " 'btech',\n",
              " 'from',\n",
              " 'jecrc']"
            ]
          },
          "metadata": {
            "tags": []
          },
          "execution_count": 6
        }
      ]
    },
    {
      "cell_type": "code",
      "metadata": {
        "id": "d1tYYBULb5p4",
        "colab_type": "code",
        "outputId": "bd04dfe1-8078-47a3-acb6-d2fde534d223",
        "colab": {
          "base_uri": "https://localhost:8080/",
          "height": 51
        }
      },
      "source": [
        "import nltk\n",
        "nltk.download('stopwords')\n",
        "  \n",
        "removedata=[i for i in tdata if i.lower not in stopwords.words('english')]"
      ],
      "execution_count": 0,
      "outputs": [
        {
          "output_type": "stream",
          "text": [
            "[nltk_data] Downloading package stopwords to /root/nltk_data...\n",
            "[nltk_data]   Unzipping corpora/stopwords.zip.\n"
          ],
          "name": "stdout"
        }
      ]
    },
    {
      "cell_type": "code",
      "metadata": {
        "id": "N0Bc9YCpcKMe",
        "colab_type": "code",
        "outputId": "bc112a91-7e36-4a12-de2f-76cac80bda75",
        "colab": {
          "base_uri": "https://localhost:8080/",
          "height": 170
        }
      },
      "source": [
        "removedata"
      ],
      "execution_count": 0,
      "outputs": [
        {
          "output_type": "execute_result",
          "data": {
            "text/plain": [
              "['hello',\n",
              " 'this',\n",
              " 'is',\n",
              " 'bhavya',\n",
              " 'currently',\n",
              " 'pursuing',\n",
              " 'btech',\n",
              " 'from',\n",
              " 'jecrc']"
            ]
          },
          "metadata": {
            "tags": []
          },
          "execution_count": 11
        }
      ]
    },
    {
      "cell_type": "code",
      "metadata": {
        "id": "x5BaDYQlcWji",
        "colab_type": "code",
        "outputId": "68879fb6-20a8-4492-dbd9-7a76759305b6",
        "colab": {
          "base_uri": "https://localhost:8080/",
          "height": 170
        }
      },
      "source": [
        "pt=PorterStemmer()\n",
        "for i in removedata:\n",
        "  print(i,\"stemmed data --->\",pt.stem(i))"
      ],
      "execution_count": 0,
      "outputs": [
        {
          "output_type": "stream",
          "text": [
            "hello stemmed data ---> hello\n",
            "this stemmed data ---> thi\n",
            "is stemmed data ---> is\n",
            "bhavya stemmed data ---> bhavya\n",
            "currently stemmed data ---> current\n",
            "pursuing stemmed data ---> pursu\n",
            "btech stemmed data ---> btech\n",
            "from stemmed data ---> from\n",
            "jecrc stemmed data ---> jecrc\n"
          ],
          "name": "stdout"
        }
      ]
    },
    {
      "cell_type": "code",
      "metadata": {
        "id": "KR4WpegLcwcU",
        "colab_type": "code",
        "outputId": "17134724-a593-4aae-8a30-91643bc93102",
        "colab": {
          "base_uri": "https://localhost:8080/",
          "height": 204
        }
      },
      "source": [
        "#lemma \n",
        "import nltk\n",
        "nltk.download('wordnet')\n",
        "wl=WordNetLemmatizer()\n",
        "for i in removedata:\n",
        "  print(wl.lemmatize(i))"
      ],
      "execution_count": 0,
      "outputs": [
        {
          "output_type": "stream",
          "text": [
            "[nltk_data] Downloading package wordnet to /root/nltk_data...\n",
            "[nltk_data]   Unzipping corpora/wordnet.zip.\n",
            "hello\n",
            "this\n",
            "is\n",
            "bhavya\n",
            "currently\n",
            "pursuing\n",
            "btech\n",
            "from\n",
            "jecrc\n"
          ],
          "name": "stdout"
        }
      ]
    },
    {
      "cell_type": "code",
      "metadata": {
        "id": "Pyk7kmKydZPK",
        "colab_type": "code",
        "outputId": "2e962948-f6ae-4803-e989-a1b8b74d46e9",
        "colab": {
          "base_uri": "https://localhost:8080/",
          "height": 34
        }
      },
      "source": [
        "#data \n",
        "x='pursuing'\n",
        "#stemming \n",
        "pt=PorterStemmer()\n",
        "pt.stem(x)\n"
      ],
      "execution_count": 0,
      "outputs": [
        {
          "output_type": "execute_result",
          "data": {
            "text/plain": [
              "'pursu'"
            ]
          },
          "metadata": {
            "tags": []
          },
          "execution_count": 19
        }
      ]
    },
    {
      "cell_type": "code",
      "metadata": {
        "id": "C1Drt08Id7FT",
        "colab_type": "code",
        "colab": {}
      },
      "source": [
        ""
      ],
      "execution_count": 0,
      "outputs": []
    }
  ]
}