{
  "nbformat": 4,
  "nbformat_minor": 0,
  "metadata": {
    "colab": {
      "name": "nltk_exp_def.ipynb",
      "version": "0.3.2",
      "provenance": [],
      "include_colab_link": true
    },
    "kernelspec": {
      "name": "python3",
      "display_name": "Python 3"
    }
  },
  "cells": [
    {
      "cell_type": "markdown",
      "metadata": {
        "id": "view-in-github",
        "colab_type": "text"
      },
      "source": [
        "<a href=\"https://colab.research.google.com/github/bhavyavj/Machine-Learning/blob/master/nltk_exp_def.ipynb\" target=\"_parent\"><img src=\"https://colab.research.google.com/assets/colab-badge.svg\" alt=\"Open In Colab\"/></a>"
      ]
    },
    {
      "cell_type": "code",
      "metadata": {
        "id": "Rak2bK1vhXow",
        "colab_type": "code",
        "colab": {
          "base_uri": "https://localhost:8080/",
          "height": 68
        },
        "outputId": "97333be2-933b-41ed-9566-1fd02a989909"
      },
      "source": [
        "from nltk.corpus import wordnet\n",
        "import nltk\n",
        "nltk.download('wordnet')"
      ],
      "execution_count": 6,
      "outputs": [
        {
          "output_type": "stream",
          "text": [
            "[nltk_data] Downloading package wordnet to /root/nltk_data...\n",
            "[nltk_data]   Package wordnet is already up-to-date!\n"
          ],
          "name": "stdout"
        },
        {
          "output_type": "execute_result",
          "data": {
            "text/plain": [
              "True"
            ]
          },
          "metadata": {
            "tags": []
          },
          "execution_count": 6
        }
      ]
    },
    {
      "cell_type": "code",
      "metadata": {
        "id": "1ZQ6pidlhjya",
        "colab_type": "code",
        "colab": {}
      },
      "source": [
        "ws=wordnet.synsets('work')  # lemma word pass"
      ],
      "execution_count": 0,
      "outputs": []
    },
    {
      "cell_type": "code",
      "metadata": {
        "id": "L_YPuuQghvnl",
        "colab_type": "code",
        "outputId": "85aab05e-c515-441f-e826-9620f5e36b00",
        "colab": {
          "base_uri": "https://localhost:8080/",
          "height": 34
        }
      },
      "source": [
        "len(ws)"
      ],
      "execution_count": 8,
      "outputs": [
        {
          "output_type": "execute_result",
          "data": {
            "text/plain": [
              "34"
            ]
          },
          "metadata": {
            "tags": []
          },
          "execution_count": 8
        }
      ]
    },
    {
      "cell_type": "code",
      "metadata": {
        "id": "wSuHUUX-hxqX",
        "colab_type": "code",
        "outputId": "246e2054-ab84-4871-a207-8277b12667a6",
        "colab": {
          "base_uri": "https://localhost:8080/",
          "height": 34
        }
      },
      "source": [
        "ws[0].definition()"
      ],
      "execution_count": 9,
      "outputs": [
        {
          "output_type": "execute_result",
          "data": {
            "text/plain": [
              "'activity directed toward making or doing something'"
            ]
          },
          "metadata": {
            "tags": []
          },
          "execution_count": 9
        }
      ]
    },
    {
      "cell_type": "code",
      "metadata": {
        "id": "_TszPKYJhyhm",
        "colab_type": "code",
        "outputId": "887e66d4-844d-44f0-dc66-640588a499ab",
        "colab": {
          "base_uri": "https://localhost:8080/",
          "height": 102
        }
      },
      "source": [
        "ws[1].examples()"
      ],
      "execution_count": 10,
      "outputs": [
        {
          "output_type": "execute_result",
          "data": {
            "text/plain": [
              "['it is not regarded as one of his more memorable works',\n",
              " 'the symphony was hailed as an ingenious work',\n",
              " 'he was indebted to the pioneering work of John Dewey',\n",
              " 'the work of an active imagination',\n",
              " 'erosion is the work of wind or water over time']"
            ]
          },
          "metadata": {
            "tags": []
          },
          "execution_count": 10
        }
      ]
    },
    {
      "cell_type": "code",
      "metadata": {
        "id": "4Bxh4X0RiP-f",
        "colab_type": "code",
        "colab": {
          "base_uri": "https://localhost:8080/",
          "height": 1000
        },
        "outputId": "a133e324-f47a-4bfc-97d1-5f9b96e79b77"
      },
      "source": [
        "#exploring all the book \n",
        "import time\n",
        "msg=input(\"enter your keyword yo want to know about :----\")\n",
        "for i in wordnet.synsets(msg):\n",
        "  print(i.definition())\n",
        "  print(\"_\"*20)\n",
        "  print(i.examples())\n",
        "  #time.sleep(10)"
      ],
      "execution_count": 12,
      "outputs": [
        {
          "output_type": "stream",
          "text": [
            "enter your keyword yo want to know about :----work\n",
            "activity directed toward making or doing something\n",
            "____________________\n",
            "['she checked several points needing further work']\n",
            "a product produced or accomplished through the effort or activity or agency of a person or thing\n",
            "____________________\n",
            "['it is not regarded as one of his more memorable works', 'the symphony was hailed as an ingenious work', 'he was indebted to the pioneering work of John Dewey', 'the work of an active imagination', 'erosion is the work of wind or water over time']\n",
            "the occupation for which you are paid\n",
            "____________________\n",
            "['he is looking for employment', 'a lot of people are out of work']\n",
            "applying the mind to learning and understanding a subject (especially by reading)\n",
            "____________________\n",
            "['mastering a second language requires a lot of work', 'no schools offer graduate study in interior design']\n",
            "(physics) a manifestation of energy; the transfer of energy from one physical system to another expressed as the product of a force and the distance through which it moves a body in the direction of that force\n",
            "____________________\n",
            "['work equals force times distance']\n",
            "a place where work is done\n",
            "____________________\n",
            "['he arrived at work early today']\n",
            "the total output of a writer or artist (or a substantial part of it)\n",
            "____________________\n",
            "['he studied the entire Wagnerian oeuvre', \"Picasso's work can be divided into periods\"]\n",
            "exert oneself by doing mental or physical work for a purpose or out of necessity\n",
            "____________________\n",
            "['I will work hard to improve my grades', 'she worked hard for better living conditions for the poor']\n",
            "be employed\n",
            "____________________\n",
            "['Is your husband working again?', 'My wife never worked', 'Do you want to work after the age of 60?', 'She never did any work because she inherited a lot of money', 'She works as a waitress to put herself through college']\n",
            "have an effect or outcome; often the one desired or expected\n",
            "____________________\n",
            "[\"The voting process doesn't work as well as people thought\", 'How does your idea work in practice?', \"This method doesn't work\", 'The breaks of my new car act quickly', 'The medicine works only if you take it with a lot of water']\n",
            "perform as expected when applied\n",
            "____________________\n",
            "[\"The washing machine won't go unless it's plugged in\", 'Does this old car still run well?', \"This old radio doesn't work anymore\"]\n",
            "shape, form, or improve a material\n",
            "____________________\n",
            "['work stone into tools', 'process iron', 'work the metal']\n",
            "give a workout to\n",
            "____________________\n",
            "['Some parents exercise their infants', 'My personal trainer works me hard', \"work one's muscles\", 'this puzzle will exercise your mind']\n",
            "proceed along a path\n",
            "____________________\n",
            "[\"work one's way through the crowd\", \"make one's way into the forest\"]\n",
            "operate in a certain place, area, or specialty\n",
            "____________________\n",
            "['She works the night clubs', 'The salesman works the Midwest', 'This artist works mostly in acrylics']\n",
            "proceed towards a goal or along a path or through an activity\n",
            "____________________\n",
            "['work your way through every problem or task', 'She was working on her second martini when the guests arrived', 'Start from the bottom and work towards the top']\n",
            "move in an agitated manner\n",
            "____________________\n",
            "['His fingers worked with tension']\n",
            "cause to happen or to occur as a consequence\n",
            "____________________\n",
            "['I cannot work a miracle', 'wreak havoc', 'bring comments', 'play a joke', 'The rain brought relief to the drought-stricken area']\n",
            "cause to work\n",
            "____________________\n",
            "['he is working his servants hard']\n",
            "prepare for crops\n",
            "____________________\n",
            "['Work the soil', 'cultivate the land']\n",
            "behave in a certain way when handled\n",
            "____________________\n",
            "['This dough does not work easily', 'The soft metal works well']\n",
            "have and exert influence or effect\n",
            "____________________\n",
            "[\"The artist's work influenced the young painter\", 'She worked on her friends to support the political candidate']\n",
            "operate in or through\n",
            "____________________\n",
            "['Work the phones']\n",
            "cause to operate or function\n",
            "____________________\n",
            "['This pilot works the controls', 'Can you work an electric drill?']\n",
            "provoke or excite\n",
            "____________________\n",
            "['The rock musician worked the crowd of young girls into a frenzy']\n",
            "gratify and charm, usually in order to influence\n",
            "____________________\n",
            "['the political candidate worked the crowds']\n",
            "make something, usually for a specific function\n",
            "____________________\n",
            "['She molded the rice balls carefully', 'Form cylinders from the dough', 'shape a figure', 'Work the metal into a sword']\n",
            "move into or onto\n",
            "____________________\n",
            "['work the raisins into the dough', 'the student worked a few jokes into his presentation', 'work the body onto the flatbed truck']\n",
            "make uniform\n",
            "____________________\n",
            "['knead dough', 'work the clay until it is soft']\n",
            "use or manipulate to one's advantage\n",
            "____________________\n",
            "['He exploit the new taxation system', 'She knows how to work the system', 'he works his parents for sympathy']\n",
            "find the solution to (a problem or question) or understand the meaning of\n",
            "____________________\n",
            "['did you solve the problem?', 'Work out your problems with the boss', \"this unpleasant situation isn't going to work itself out\", 'did you get it?', 'Did you get my meaning?', 'He could not work the math problem']\n",
            "cause to undergo fermentation\n",
            "____________________\n",
            "['We ferment the grapes for a very long time to achieve high alcohol content', 'The vintner worked the wine in big oak vats']\n",
            "go sour or spoil\n",
            "____________________\n",
            "['The milk has soured', 'The wine worked', 'The cream has turned--we have to throw it out']\n",
            "arrive at a certain condition through repeated motion\n",
            "____________________\n",
            "['The stitches of the hem worked loose after she wore the skirt many times']\n"
          ],
          "name": "stdout"
        }
      ]
    },
    {
      "cell_type": "code",
      "metadata": {
        "id": "wZ6rDAQOjHwa",
        "colab_type": "code",
        "colab": {}
      },
      "source": [
        "w"
      ],
      "execution_count": 0,
      "outputs": []
    }
  ]
}