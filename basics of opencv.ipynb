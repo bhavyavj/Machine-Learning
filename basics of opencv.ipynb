{
 "cells": [
  {
   "cell_type": "code",
   "execution_count": 1,
   "metadata": {},
   "outputs": [],
   "source": [
    "import cv2\n",
    "#starting camera \n",
    "cap=cv2.VideoCapture(0)\n",
    "while cap.isOpened():\n",
    "    status,frame=cap.read()\n",
    "    cv2.imshow('live',frame)\n",
    "    if cv2.waitKey(10) & 0xff == ord('q'):\n",
    "        break\n",
    "        \n",
    "        \n",
    "#cv2.destroyWindow('live')\n",
    "cv2.destroyAllWindows()\n",
    "cap.release()"
   ]
  },
  {
   "cell_type": "code",
   "execution_count": null,
   "metadata": {},
   "outputs": [],
   "source": [
    "import cv2\n",
    "#starting camera \n",
    "cap=cv2.VideoCapture(0)\n",
    "while cap.isOpened():\n",
    "    status,frame=cap.read()\n",
    "    # converting image frame into gray scale\n",
    "    graying=cv2.cvtColor(frame,cv2.COLOR_BGR2GRAY)\n",
    "    print(frame.shape)\n",
    "    cv2.imshow('live',frame)\n",
    "    cv2.imshow('livegray',graying)\n",
    "    if cv2.waitKey(10) & 0xff == ord('q') :\n",
    "        break\n",
    "        \n",
    "        \n",
    "#cv2.destroyWindow('live')\n",
    "cv2.destroyAllWindows()\n",
    "cap.release()"
   ]
  },
  {
   "cell_type": "code",
   "execution_count": null,
   "metadata": {},
   "outputs": [],
   "source": [
    "import cv2\n",
    "#starting camera \n",
    "cap=cv2.VideoCapture(0)\n",
    "while cap.isOpened():\n",
    "    status,frame=cap.read()\n",
    "    # converting image frame into gray scale\n",
    "    graying=cv2.cvtColor(frame,cv2.COLOR_BGR2GRAY)\n",
    "    print(frame.shape)\n",
    "    #line\n",
    "    cv2.line(frame,(0,0),(200,300),(0,255,0),3)\n",
    "    #rectangle\n",
    "    cv2.rectangle(frame,(50,50),(150,200),(0,0,255),2)\n",
    "    #circle\n",
    "    cv2.circle(frame,(200,300),100,(13,44,123),2)\n",
    "    #texting\n",
    "    font=cv2.FONT_HERSHEY_SIMPLEX\n",
    "    cv2.putText(frame,'OPEN_CV',(10,50),font,2,(0,2,255),2,cv2.LINE_AA)\n",
    "    \n",
    "    #cv2.imshow('live',frame)\n",
    "    cv2.imshow('livegray',graying)\n",
    "    if cv2.waitKey(10) & 0xff == ord('q') :\n",
    "        break\n",
    "        \n",
    "        \n",
    "#cv2.destroyWindow('live')\n",
    "cv2.destroyAllWindows()\n",
    "cap.release()"
   ]
  },
  {
   "cell_type": "code",
   "execution_count": null,
   "metadata": {},
   "outputs": [],
   "source": [
    "import cv2\n",
    "#starting camera \n",
    "cap=cv2.VideoCapture(0)\n",
    "#adding plugin\n",
    "plugin=cv2.VideoWriter_fourcc(*'XVID')\n",
    "#saving video                               width,height\n",
    "output=cv2.VideoWriter('class.avi',plugin,20,(640,480))\n",
    "#output=cv2.VideoWriter('class.mp4',plugin,20 )\n",
    "\n",
    "while cap.isOpened():\n",
    "    status,frame=cap.read()\n",
    "    cv2.imshow('live',frame)\n",
    "    output.write(frame) #sending data to VideoWrite\n",
    "    if cv2.waitKey(10) & 0xff == ord('q') :\n",
    "        break\n",
    "               \n",
    "#cv2.destroyWindow('live')\n",
    "cv2.destroyAllWindows()\n",
    "cap.release() "
   ]
  },
  {
   "cell_type": "code",
   "execution_count": 10,
   "metadata": {},
   "outputs": [
    {
     "data": {
      "text/plain": [
       "'C:\\\\Users\\\\bhavya vijay'"
      ]
     },
     "execution_count": 10,
     "metadata": {},
     "output_type": "execute_result"
    }
   ],
   "source": [
    "pwd"
   ]
  },
  {
   "cell_type": "code",
   "execution_count": null,
   "metadata": {},
   "outputs": [],
   "source": []
  }
 ],
 "metadata": {
  "kernelspec": {
   "display_name": "Python 3",
   "language": "python",
   "name": "python3"
  },
  "language_info": {
   "codemirror_mode": {
    "name": "ipython",
    "version": 3
   },
   "file_extension": ".py",
   "mimetype": "text/x-python",
   "name": "python",
   "nbconvert_exporter": "python",
   "pygments_lexer": "ipython3",
   "version": "3.7.3"
  }
 },
 "nbformat": 4,
 "nbformat_minor": 2
}
