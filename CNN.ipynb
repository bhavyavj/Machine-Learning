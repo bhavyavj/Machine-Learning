{
  "nbformat": 4,
  "nbformat_minor": 0,
  "metadata": {
    "colab": {
      "name": "CNN.ipynb",
      "version": "0.3.2",
      "provenance": [],
      "include_colab_link": true
    },
    "kernelspec": {
      "name": "python3",
      "display_name": "Python 3"
    }
  },
  "cells": [
    {
      "cell_type": "markdown",
      "metadata": {
        "id": "view-in-github",
        "colab_type": "text"
      },
      "source": [
        "<a href=\"https://colab.research.google.com/github/bhavyavj/Machine-Learning/blob/master/CNN.ipynb\" target=\"_parent\"><img src=\"https://colab.research.google.com/assets/colab-badge.svg\" alt=\"Open In Colab\"/></a>"
      ]
    },
    {
      "cell_type": "code",
      "metadata": {
        "id": "xU20ZbvUcWcz",
        "colab_type": "code",
        "outputId": "31934779-350b-4256-8308-fd514e9e3041",
        "colab": {
          "base_uri": "https://localhost:8080/",
          "height": 71
        }
      },
      "source": [
        "# importing all the modules required for CNN creation\n",
        "import keras\n",
        "# convolutional model\n",
        "from keras.layers import Convolution2D\n",
        "#max polling\n",
        "from keras.layers import MaxPool2D\n",
        "from keras.layers import Flatten\n",
        "# ANN importing \n",
        "from keras.models import Sequential \n",
        "from keras.layers import Dense\n",
        "# Classifier model\n",
        "model=Sequential()\n",
        "# creating convolution layer under mpodel namespace\n",
        "model.add(Convolution2D(32,3,3,activation='relu',input_shape=(128,128,3)))\n",
        "# no of feature extract from original image during convolution -- 3,3 -- activation , image dimension\n",
        "# when outcomes will be generated that will lead to feature maps"
      ],
      "execution_count": 0,
      "outputs": [
        {
          "output_type": "stream",
          "text": [
            "/usr/local/lib/python3.6/dist-packages/ipykernel_launcher.py:13: UserWarning: Update your `Conv2D` call to the Keras 2 API: `Conv2D(32, (3, 3), activation=\"relu\", input_shape=(128, 128,...)`\n",
            "  del sys.path[0]\n"
          ],
          "name": "stderr"
        }
      ]
    },
    {
      "cell_type": "code",
      "metadata": {
        "id": "ijTNq89gcYSF",
        "colab_type": "code",
        "outputId": "f8ce17cd-02ca-4778-92b9-e8b37b84d0e8",
        "colab": {
          "base_uri": "https://localhost:8080/",
          "height": 71
        }
      },
      "source": [
        "# now we can apply max polling in features maps\n",
        "model.add(MaxPool2D(pool_size=(2,2)))\n",
        "# here output will be a subobject\n",
        "# then we can apply listening\n",
        "model.add(Flatten())   # we dont have to supply any paras --bcz dataset column convert so that we can use this as input  of ANN\n",
        "# now we can give flatten output to input as ANN , first hidden layer or input layer\n",
        "model.add(Dense(128,activation='relu'))\n",
        "# output layer \n",
        "model.add(Dense(1,activation='sigmoid'))\n",
        "\n",
        "\n",
        "\n",
        "#output layer\n",
        "\n"
      ],
      "execution_count": 0,
      "outputs": [
        {
          "output_type": "stream",
          "text": [
            "W0709 11:56:01.998007 140293279602560 deprecation_wrapper.py:119] From /usr/local/lib/python3.6/dist-packages/keras/backend/tensorflow_backend.py:3976: The name tf.nn.max_pool is deprecated. Please use tf.nn.max_pool2d instead.\n",
            "\n"
          ],
          "name": "stderr"
        }
      ]
    },
    {
      "cell_type": "code",
      "metadata": {
        "id": "797BO9B8lYRK",
        "colab_type": "code",
        "colab": {}
      },
      "source": [
        "train_datagen = ImageDataGenerator(\n",
        "        rescale=1./255,\n",
        "        shear_range=0.2,\n",
        "        zoom_range=0.2,\n",
        "        horizontal_flip=True)\n",
        "\n",
        "test_datagen = ImageDataGenerator(rescale=1./255)\n",
        "\n",
        "train_generator = train_datagen.flow_from_directory(\n",
        "        'data/train',\n",
        "        target_size=(150, 150),\n",
        "        batch_size=32,\n",
        "        class_mode='binary')\n",
        "\n",
        "validation_generator = test_datagen.flow_from_directory(\n",
        "        'data/validation',\n",
        "        target_size=(150, 150),\n",
        "        batch_size=32,\n",
        "        class_mode='binary')\n",
        "\n",
        "model.fit_generator(\n",
        "        train_generator,\n",
        "        steps_per_epoch=8000,\n",
        "        epochs=25,\n",
        "        validation_data=validation_generator,\n",
        "        validation_steps=2000)"
      ],
      "execution_count": 0,
      "outputs": []
    }
  ]
}